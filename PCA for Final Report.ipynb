{
 "cells": [
  {
   "cell_type": "code",
   "execution_count": 2,
   "metadata": {},
   "outputs": [],
   "source": [
    "#Start for PCA for data visualizatron\n",
    "#Code from https://github.com/mGalarnyk/Python_Tutorials/blob/master/\n",
    "#Sklearn/PCA/PCA_Data_Visualization_Iris_Dataset_Blog.ipynb\n",
    "\n",
    "import pandas as pd \n",
    "import numpy as np\n",
    "import matplotlib.pyplot as plt\n",
    "from sklearn.decomposition import PCA\n",
    "from sklearn.preprocessing import StandardScaler\n",
    "%matplotlib inline"
   ]
  },
  {
   "cell_type": "code",
   "execution_count": 3,
   "metadata": {},
   "outputs": [],
   "source": [
    "df = pd.read_csv('c:/users/admin/documents/data science/smu/courses/ds 7331 - data mining/data sets/chile earthquake pregnancy outcome/Chilean_Earthquake_Binary_data.csv')"
   ]
  },
  {
   "cell_type": "code",
   "execution_count": 13,
   "metadata": {},
   "outputs": [
    {
     "name": "stdout",
     "output_type": "stream",
     "text": [
      "<class 'pandas.core.frame.DataFrame'>\n",
      "RangeIndex: 4076 entries, 0 to 4075\n",
      "Data columns (total 22 columns):\n",
      "Clinic_ID         239 non-null float64\n",
      "Excel_File_ID     4076 non-null int64\n",
      "Day               4076 non-null int64\n",
      "Month             4076 non-null int64\n",
      "Year              4076 non-null int64\n",
      "Sex               4076 non-null int64\n",
      "Weight            4076 non-null int64\n",
      "Length            4076 non-null float64\n",
      "Head_circ         4076 non-null float64\n",
      "apgar_1           4076 non-null int64\n",
      "apgar_5           4076 non-null int64\n",
      "Municipality      4076 non-null int64\n",
      "Wgt_for_age       4076 non-null int64\n",
      "Gest_age          4076 non-null int64\n",
      "Trimester         4076 non-null int64\n",
      "Low_birthwgt      4076 non-null int64\n",
      "Premature         4076 non-null int64\n",
      "Maternal_age      4076 non-null int64\n",
      "Parity            4074 non-null float64\n",
      "Trim_study        4076 non-null int64\n",
      "Ponderal_index    4076 non-null float64\n",
      "Exposed           4076 non-null int64\n",
      "dtypes: float64(5), int64(17)\n",
      "memory usage: 700.6 KB\n"
     ]
    }
   ],
   "source": [
    "df.info()"
   ]
  },
  {
   "cell_type": "code",
   "execution_count": 4,
   "metadata": {},
   "outputs": [],
   "source": [
    "#replace NaN in Parity with 0\n",
    "df['Parity'].fillna(0, inplace=True)"
   ]
  },
  {
   "cell_type": "code",
   "execution_count": 20,
   "metadata": {},
   "outputs": [
    {
     "name": "stdout",
     "output_type": "stream",
     "text": [
      "<class 'pandas.core.frame.DataFrame'>\n",
      "RangeIndex: 4076 entries, 0 to 4075\n",
      "Data columns (total 22 columns):\n",
      "Clinic_ID         239 non-null float64\n",
      "Excel_File_ID     4076 non-null int64\n",
      "Day               4076 non-null int64\n",
      "Month             4076 non-null int64\n",
      "Year              4076 non-null int64\n",
      "Sex               4076 non-null int64\n",
      "Weight            4076 non-null int64\n",
      "Length            4076 non-null float64\n",
      "Head_circ         4076 non-null float64\n",
      "apgar_1           4076 non-null int64\n",
      "apgar_5           4076 non-null int64\n",
      "Municipality      4076 non-null int64\n",
      "Wgt_for_age       4076 non-null int64\n",
      "Gest_age          4076 non-null int64\n",
      "Trimester         4076 non-null int64\n",
      "Low_birthwgt      4076 non-null int64\n",
      "Premature         4076 non-null int64\n",
      "Maternal_age      4076 non-null int64\n",
      "Parity            4076 non-null float64\n",
      "Trim_study        4076 non-null int64\n",
      "Ponderal_index    4076 non-null float64\n",
      "Exposed           4076 non-null int64\n",
      "dtypes: float64(5), int64(17)\n",
      "memory usage: 700.6 KB\n"
     ]
    }
   ],
   "source": [
    "df.info()"
   ]
  },
  {
   "cell_type": "code",
   "execution_count": 5,
   "metadata": {},
   "outputs": [],
   "source": [
    "#Begin to Standardize the independent variables (or features) - the ones for the PCA.\n",
    "#Leave out Clinic_ID, Excel_File_ID, Day, Month, Year, Weight, Length, apgar_1, Trim_study\n",
    "#because these either non-data or subsumed by another.\n",
    "\n",
    "features = ['Sex', 'Head_circ', 'apgar_1', 'apgar_5', 'Municipality', 'Wgt_for_age', 'Gest_age', \n",
    "            'Trimester', 'Low_birthwgt', 'Premature', 'Maternal_age', 'Parity', 'Ponderal_index']\n",
    "x = df.loc[:, features].values"
   ]
  },
  {
   "cell_type": "code",
   "execution_count": 6,
   "metadata": {
    "scrolled": true
   },
   "outputs": [],
   "source": [
    "#Define the \"Target\", the y variable for PCA y = df.loc[:,['target']].values\n",
    "y = df.loc[:,['Exposed']].values"
   ]
  },
  {
   "cell_type": "code",
   "execution_count": 7,
   "metadata": {},
   "outputs": [],
   "source": [
    "#Transform the data to scale it to mean = 0 and sd = 1\n",
    "x = StandardScaler().fit_transform(x)"
   ]
  },
  {
   "cell_type": "code",
   "execution_count": 33,
   "metadata": {
    "scrolled": true
   },
   "outputs": [
    {
     "data": {
      "text/html": [
       "<div>\n",
       "<style scoped>\n",
       "    .dataframe tbody tr th:only-of-type {\n",
       "        vertical-align: middle;\n",
       "    }\n",
       "\n",
       "    .dataframe tbody tr th {\n",
       "        vertical-align: top;\n",
       "    }\n",
       "\n",
       "    .dataframe thead th {\n",
       "        text-align: right;\n",
       "    }\n",
       "</style>\n",
       "<table border=\"1\" class=\"dataframe\">\n",
       "  <thead>\n",
       "    <tr style=\"text-align: right;\">\n",
       "      <th></th>\n",
       "      <th>Sex</th>\n",
       "      <th>Head_circ</th>\n",
       "      <th>apgar_1</th>\n",
       "      <th>apgar_5</th>\n",
       "      <th>Municipality</th>\n",
       "      <th>Wgt_for_age</th>\n",
       "      <th>Gest_age</th>\n",
       "      <th>Trimester</th>\n",
       "      <th>Low_birthwgt</th>\n",
       "      <th>Premature</th>\n",
       "      <th>Maternal_age</th>\n",
       "      <th>Parity</th>\n",
       "      <th>Ponderal_index</th>\n",
       "    </tr>\n",
       "  </thead>\n",
       "  <tbody>\n",
       "    <tr>\n",
       "      <th>0</th>\n",
       "      <td>0.976239</td>\n",
       "      <td>-0.159605</td>\n",
       "      <td>0.318204</td>\n",
       "      <td>-0.697388</td>\n",
       "      <td>0.813798</td>\n",
       "      <td>-0.348089</td>\n",
       "      <td>1.113912</td>\n",
       "      <td>0.000299</td>\n",
       "      <td>-0.115871</td>\n",
       "      <td>-0.170391</td>\n",
       "      <td>-1.643077</td>\n",
       "      <td>-0.781494</td>\n",
       "      <td>0.655883</td>\n",
       "    </tr>\n",
       "    <tr>\n",
       "      <th>1</th>\n",
       "      <td>-1.024339</td>\n",
       "      <td>-0.580810</td>\n",
       "      <td>0.318204</td>\n",
       "      <td>1.219370</td>\n",
       "      <td>-0.751582</td>\n",
       "      <td>1.729234</td>\n",
       "      <td>1.113912</td>\n",
       "      <td>1.219745</td>\n",
       "      <td>-0.115871</td>\n",
       "      <td>-0.170391</td>\n",
       "      <td>0.773269</td>\n",
       "      <td>-0.781494</td>\n",
       "      <td>-1.789050</td>\n",
       "    </tr>\n",
       "    <tr>\n",
       "      <th>2</th>\n",
       "      <td>-1.024339</td>\n",
       "      <td>0.261600</td>\n",
       "      <td>-1.051383</td>\n",
       "      <td>-0.697388</td>\n",
       "      <td>0.813798</td>\n",
       "      <td>-0.348089</td>\n",
       "      <td>-1.677831</td>\n",
       "      <td>1.219745</td>\n",
       "      <td>-0.115871</td>\n",
       "      <td>-0.170391</td>\n",
       "      <td>-1.828950</td>\n",
       "      <td>-0.781494</td>\n",
       "      <td>0.025925</td>\n",
       "    </tr>\n",
       "    <tr>\n",
       "      <th>3</th>\n",
       "      <td>0.976239</td>\n",
       "      <td>0.682805</td>\n",
       "      <td>0.318204</td>\n",
       "      <td>-0.697388</td>\n",
       "      <td>0.813798</td>\n",
       "      <td>-0.348089</td>\n",
       "      <td>1.113912</td>\n",
       "      <td>1.219745</td>\n",
       "      <td>-0.115871</td>\n",
       "      <td>-0.170391</td>\n",
       "      <td>-1.643077</td>\n",
       "      <td>-0.781494</td>\n",
       "      <td>-0.548904</td>\n",
       "    </tr>\n",
       "    <tr>\n",
       "      <th>4</th>\n",
       "      <td>-1.024339</td>\n",
       "      <td>1.104010</td>\n",
       "      <td>0.318204</td>\n",
       "      <td>1.219370</td>\n",
       "      <td>0.813798</td>\n",
       "      <td>-0.348089</td>\n",
       "      <td>1.113912</td>\n",
       "      <td>1.219745</td>\n",
       "      <td>-0.115871</td>\n",
       "      <td>-0.170391</td>\n",
       "      <td>-0.527840</td>\n",
       "      <td>-0.781494</td>\n",
       "      <td>-0.537807</td>\n",
       "    </tr>\n",
       "  </tbody>\n",
       "</table>\n",
       "</div>"
      ],
      "text/plain": [
       "        Sex  Head_circ   apgar_1   apgar_5  Municipality  Wgt_for_age  \\\n",
       "0  0.976239  -0.159605  0.318204 -0.697388      0.813798    -0.348089   \n",
       "1 -1.024339  -0.580810  0.318204  1.219370     -0.751582     1.729234   \n",
       "2 -1.024339   0.261600 -1.051383 -0.697388      0.813798    -0.348089   \n",
       "3  0.976239   0.682805  0.318204 -0.697388      0.813798    -0.348089   \n",
       "4 -1.024339   1.104010  0.318204  1.219370      0.813798    -0.348089   \n",
       "\n",
       "   Gest_age  Trimester  Low_birthwgt  Premature  Maternal_age    Parity  \\\n",
       "0  1.113912   0.000299     -0.115871  -0.170391     -1.643077 -0.781494   \n",
       "1  1.113912   1.219745     -0.115871  -0.170391      0.773269 -0.781494   \n",
       "2 -1.677831   1.219745     -0.115871  -0.170391     -1.828950 -0.781494   \n",
       "3  1.113912   1.219745     -0.115871  -0.170391     -1.643077 -0.781494   \n",
       "4  1.113912   1.219745     -0.115871  -0.170391     -0.527840 -0.781494   \n",
       "\n",
       "   Ponderal_index  \n",
       "0        0.655883  \n",
       "1       -1.789050  \n",
       "2        0.025925  \n",
       "3       -0.548904  \n",
       "4       -0.537807  "
      ]
     },
     "execution_count": 33,
     "metadata": {},
     "output_type": "execute_result"
    }
   ],
   "source": [
    "#View our standardized data.\n",
    "#Note that \"pd.DataFrame\" is a function, not a name of the data frame\n",
    "pd.DataFrame(data = x, columns = features).head()"
   ]
  },
  {
   "cell_type": "code",
   "execution_count": 8,
   "metadata": {},
   "outputs": [],
   "source": [
    "###Redo the model, ask for 3 component model\n",
    "features = ['Sex', 'Head_circ', 'apgar_1', 'apgar_5', 'Municipality', 'Wgt_for_age', 'Gest_age', \n",
    "            'Trimester', 'Low_birthwgt', 'Premature', 'Maternal_age', 'Parity', 'Ponderal_index']\n",
    "x = df.loc[:, features].values\n",
    "y = df.loc[:,['Exposed']].values\n",
    "x = StandardScaler().fit_transform(x)\n",
    "\n",
    "#View our standardized data.\n",
    "#Note that \"pd.DataFrame\" is a function, not a name of the data frame\n",
    "pd.DataFrame(data = x, columns = features).head()\n",
    "\n",
    "pca = PCA(n_components=3)\n",
    "principalComponents3 = pca.fit_transform(x)\n",
    "principalDf3 = pd.DataFrame(data = principalComponents3,\n",
    "                          columns = ['principal component 1', 'principal component 2', 'principal component 3'])"
   ]
  },
  {
   "cell_type": "code",
   "execution_count": 9,
   "metadata": {},
   "outputs": [
    {
     "data": {
      "text/plain": [
       "array([0.15136757, 0.11853766, 0.1057593 ])"
      ]
     },
     "execution_count": 9,
     "metadata": {},
     "output_type": "execute_result"
    }
   ],
   "source": [
    "pca.explained_variance_ratio_\n",
    "\n",
    "##This gives ~38% variance covered/explained/lost for 3 component model"
   ]
  },
  {
   "cell_type": "code",
   "execution_count": 10,
   "metadata": {},
   "outputs": [],
   "source": [
    "#Redo the model to get a four component model\n",
    "\n",
    "pca = PCA(n_components=4)\n",
    "principalComponents4 = pca.fit_transform(x)\n",
    "principalDf4 = pd.DataFrame(data = principalComponents4,\n",
    "                          columns = ['principal component 1', 'principal component 2', 'principal component 3', 'principal component 4'])"
   ]
  },
  {
   "cell_type": "code",
   "execution_count": 11,
   "metadata": {},
   "outputs": [
    {
     "data": {
      "text/plain": [
       "array([0.15136757, 0.11853766, 0.1057593 , 0.0858756 ])"
      ]
     },
     "execution_count": 11,
     "metadata": {},
     "output_type": "execute_result"
    }
   ],
   "source": [
    "pca.explained_variance_ratio_\n",
    "\n",
    "##This gives ~46% variance covered/explained/lost for 4 component model"
   ]
  },
  {
   "cell_type": "code",
   "execution_count": 12,
   "metadata": {},
   "outputs": [],
   "source": [
    "##Look at a 5 component model\n",
    "\n",
    "pca = PCA(n_components=5)\n",
    "principalComponents5 = pca.fit_transform(x)\n",
    "principalDf5 = pd.DataFrame(data = principalComponents5,\n",
    "                          columns = ['principal component 1', 'principal component 2', 'principal component 3',\n",
    "                                     'principal component 4', 'principal component 5'])"
   ]
  },
  {
   "cell_type": "code",
   "execution_count": 13,
   "metadata": {},
   "outputs": [
    {
     "data": {
      "text/plain": [
       "array([0.15136757, 0.11853766, 0.1057593 , 0.0858756 , 0.08042053])"
      ]
     },
     "execution_count": 13,
     "metadata": {},
     "output_type": "execute_result"
    }
   ],
   "source": [
    "pca.explained_variance_ratio_\n",
    "\n",
    "##This gives ~54% variance covered/explained/lost for 5 component model"
   ]
  },
  {
   "cell_type": "code",
   "execution_count": 15,
   "metadata": {},
   "outputs": [],
   "source": [
    "##Because the explained variance keeps going up as another variable is added,\n",
    "#Use code to find model that covers a predetermined amount of varience.\n",
    "###In this instance, cover 80%.\n",
    "\n",
    "# Make an instance of the Model\n",
    "pca = PCA(.80)\n"
   ]
  },
  {
   "cell_type": "code",
   "execution_count": 16,
   "metadata": {},
   "outputs": [
    {
     "data": {
      "image/png": "[encoded data removed]",
      "text/plain": [
       "<Figure size 432x288 with 1 Axes>"
      ]
     },
     "metadata": {
      "needs_background": "light"
     },
     "output_type": "display_data"
    }
   ],
   "source": [
    "#Explained variance Scree plot using matplotlib\n",
    "\n",
    "pca = PCA().fit(x)\n",
    "plt.plot(np.cumsum(pca.explained_variance_ratio_))\n",
    "plt.xlabel('number of components')\n",
    "plt.ylabel('cumulative explained variance')\n",
    "plt.show()"
   ]
  },
  {
   "cell_type": "code",
   "execution_count": 17,
   "metadata": {},
   "outputs": [],
   "source": [
    "#PCA Projection to smaller number of variables\n",
    "#I chose 2 components because only a 2-dimensional plot is being done.\n",
    "\n",
    "pca = PCA(n_components=2)"
   ]
  },
  {
   "cell_type": "code",
   "execution_count": 18,
   "metadata": {},
   "outputs": [],
   "source": [
    "principalComponents = pca.fit_transform(x)"
   ]
  },
  {
   "cell_type": "code",
   "execution_count": 19,
   "metadata": {},
   "outputs": [],
   "source": [
    "principalDf = pd.DataFrame(data = principalComponents,\n",
    "                          columns = ['principal component 1', 'principal component 2'])"
   ]
  },
  {
   "cell_type": "code",
   "execution_count": 20,
   "metadata": {},
   "outputs": [
    {
     "data": {
      "text/html": [
       "<div>\n",
       "<style scoped>\n",
       "    .dataframe tbody tr th:only-of-type {\n",
       "        vertical-align: middle;\n",
       "    }\n",
       "\n",
       "    .dataframe tbody tr th {\n",
       "        vertical-align: top;\n",
       "    }\n",
       "\n",
       "    .dataframe thead th {\n",
       "        text-align: right;\n",
       "    }\n",
       "</style>\n",
       "<table border=\"1\" class=\"dataframe\">\n",
       "  <thead>\n",
       "    <tr style=\"text-align: right;\">\n",
       "      <th></th>\n",
       "      <th>principal component 1</th>\n",
       "      <th>principal component 2</th>\n",
       "    </tr>\n",
       "  </thead>\n",
       "  <tbody>\n",
       "    <tr>\n",
       "      <th>0</th>\n",
       "      <td>-0.627517</td>\n",
       "      <td>-1.833877</td>\n",
       "    </tr>\n",
       "    <tr>\n",
       "      <th>1</th>\n",
       "      <td>-0.149055</td>\n",
       "      <td>-0.062733</td>\n",
       "    </tr>\n",
       "    <tr>\n",
       "      <th>2</th>\n",
       "      <td>0.831413</td>\n",
       "      <td>-1.784753</td>\n",
       "    </tr>\n",
       "    <tr>\n",
       "      <th>3</th>\n",
       "      <td>-0.694648</td>\n",
       "      <td>-2.068422</td>\n",
       "    </tr>\n",
       "    <tr>\n",
       "      <th>4</th>\n",
       "      <td>-1.148856</td>\n",
       "      <td>-0.759189</td>\n",
       "    </tr>\n",
       "  </tbody>\n",
       "</table>\n",
       "</div>"
      ],
      "text/plain": [
       "   principal component 1  principal component 2\n",
       "0              -0.627517              -1.833877\n",
       "1              -0.149055              -0.062733\n",
       "2               0.831413              -1.784753\n",
       "3              -0.694648              -2.068422\n",
       "4              -1.148856              -0.759189"
      ]
     },
     "execution_count": 20,
     "metadata": {},
     "output_type": "execute_result"
    }
   ],
   "source": [
    "#View the first 5 principal component data lines\n",
    "\n",
    "principalDf.head(5)"
   ]
  },
  {
   "cell_type": "code",
   "execution_count": 21,
   "metadata": {},
   "outputs": [
    {
     "data": {
      "text/html": [
       "<div>\n",
       "<style scoped>\n",
       "    .dataframe tbody tr th:only-of-type {\n",
       "        vertical-align: middle;\n",
       "    }\n",
       "\n",
       "    .dataframe tbody tr th {\n",
       "        vertical-align: top;\n",
       "    }\n",
       "\n",
       "    .dataframe thead th {\n",
       "        text-align: right;\n",
       "    }\n",
       "</style>\n",
       "<table border=\"1\" class=\"dataframe\">\n",
       "  <thead>\n",
       "    <tr style=\"text-align: right;\">\n",
       "      <th></th>\n",
       "      <th>principal component 1</th>\n",
       "      <th>principal component 2</th>\n",
       "      <th>Exposed</th>\n",
       "    </tr>\n",
       "  </thead>\n",
       "  <tbody>\n",
       "    <tr>\n",
       "      <th>0</th>\n",
       "      <td>-0.627517</td>\n",
       "      <td>-1.833877</td>\n",
       "      <td>0</td>\n",
       "    </tr>\n",
       "    <tr>\n",
       "      <th>1</th>\n",
       "      <td>-0.149055</td>\n",
       "      <td>-0.062733</td>\n",
       "      <td>0</td>\n",
       "    </tr>\n",
       "    <tr>\n",
       "      <th>2</th>\n",
       "      <td>0.831413</td>\n",
       "      <td>-1.784753</td>\n",
       "      <td>0</td>\n",
       "    </tr>\n",
       "    <tr>\n",
       "      <th>3</th>\n",
       "      <td>-0.694648</td>\n",
       "      <td>-2.068422</td>\n",
       "      <td>0</td>\n",
       "    </tr>\n",
       "    <tr>\n",
       "      <th>4</th>\n",
       "      <td>-1.148856</td>\n",
       "      <td>-0.759189</td>\n",
       "      <td>0</td>\n",
       "    </tr>\n",
       "  </tbody>\n",
       "</table>\n",
       "</div>"
      ],
      "text/plain": [
       "   principal component 1  principal component 2  Exposed\n",
       "0              -0.627517              -1.833877        0\n",
       "1              -0.149055              -0.062733        0\n",
       "2               0.831413              -1.784753        0\n",
       "3              -0.694648              -2.068422        0\n",
       "4              -1.148856              -0.759189        0"
      ]
     },
     "execution_count": 21,
     "metadata": {},
     "output_type": "execute_result"
    }
   ],
   "source": [
    "#Join the two data frames together and view 5 lines.\n",
    "\n",
    "finalDf = pd.concat([principalDf, df[['Exposed']]], axis = 1)\n",
    "finalDf.head(5)"
   ]
  },
  {
   "cell_type": "code",
   "execution_count": null,
   "metadata": {},
   "outputs": [],
   "source": []
  },
  {
   "cell_type": "code",
   "execution_count": 22,
   "metadata": {},
   "outputs": [
    {
     "data": {
      "image/png": "[encoded data removed]",
      "text/plain": [
       "<Figure size 576x576 with 1 Axes>"
      ]
     },
     "metadata": {
      "needs_background": "light"
     },
     "output_type": "display_data"
    }
   ],
   "source": [
    "##Visualize the Projection\n",
    "#Use a PcA projection to 2D to visualize the entire data set.\n",
    "#Plot different classes using different colors or shapes.\n",
    "#Do the classes seem well-seperated from each other?\n",
    "\n",
    "fig = plt.figure(figsize = (8,8))\n",
    "ax = fig.add_subplot(1,1,1) \n",
    "ax.set_xlabel('Principal Component 1', fontsize = 15)\n",
    "ax.set_ylabel('Principal Component 2', fontsize = 15)\n",
    "ax.set_title('2 Component PCA', fontsize = 20)\n",
    "\n",
    "\n",
    "targets = ['Not Exposed', 'Exposed']\n",
    "colors = ['b', 'r']\n",
    "for target, color in zip(targets,colors):\n",
    "    indicesToKeep = finalDf['Exposed'] == finalDf.Exposed\n",
    "    ax.scatter(finalDf.loc[indicesToKeep, 'principal component 1']\n",
    "               , finalDf.loc[indicesToKeep, 'principal component 2']\n",
    "               , c = color\n",
    "               , s = 50)\n",
    "ax.legend('Exposed')\n",
    "ax.grid()"
   ]
  },
  {
   "cell_type": "code",
   "execution_count": null,
   "metadata": {},
   "outputs": [],
   "source": []
  }
 ],
 "metadata": {
  "kernelspec": {
   "display_name": "Python 3",
   "language": "python",
   "name": "python3"
  },
  "language_info": {
   "codemirror_mode": {
    "name": "ipython",
    "version": 3
   },
   "file_extension": ".py",
   "mimetype": "text/x-python",
   "name": "python",
   "nbconvert_exporter": "python",
   "pygments_lexer": "ipython3",
   "version": "3.7.1"
  }
 },
 "nbformat": 4,
 "nbformat_minor": 2
}
